{
 "cells": [
  {
   "cell_type": "markdown",
   "metadata": {
    "id": "D4HNDOyniIrV"
   },
   "source": [
    "#  Центральная предельная теорема своими руками"
   ]
  },
  {
   "cell_type": "code",
   "execution_count": 9,
   "metadata": {},
   "outputs": [
    {
     "name": "stdout",
     "output_type": "stream",
     "text": [
      "Available Themes: \n",
      "   chesterish\n",
      "   grade3\n",
      "   gruvboxd\n",
      "   gruvboxl\n",
      "   monokai\n",
      "   oceans16\n",
      "   onedork\n",
      "   solarizedd\n",
      "   solarizedl\n"
     ]
    }
   ],
   "source": [
    "!jt -l\n",
    "!jt -t grade3"
   ]
  },
  {
   "cell_type": "code",
   "execution_count": 14,
   "metadata": {
    "id": "WnGNIa2vgqxU"
   },
   "outputs": [
    {
     "name": "stdout",
     "output_type": "stream",
     "text": [
      "Hey!\n",
      "Hey!\n",
      "Hey!\n",
      "Hey!\n",
      "Hey!\n",
      "Hey!\n",
      "Hey!\n",
      "Hey!\n",
      "Hey!\n",
      "Hey!\n"
     ]
    }
   ],
   "source": [
    "import numpy as np\n",
    "import matplotlib.pyplot as plt\n",
    "import scipy.stats as sts\n",
    "import math\n",
    "for i in range(10):\n",
    "    print(\"Hey!\")"
   ]
  },
  {
   "cell_type": "markdown",
   "metadata": {
    "id": "Ihee6Ll2jEzr"
   },
   "source": [
    "## Выбор распределения и генерация выборки  \n",
    "\n",
    "Для реализации текущей задачи было выбрано распределение Парета, удолетворяющее требованиям непрерывности и непохожести на нормальное, ьем не менее достаточно применяемое в экономике, теории вероятности и ряде другух дисциплин, чтобы быть узнаваемым.\n",
    "\n",
    "Распределение Парето должно быть больше нуля и не ограничено сверху. Это также известно как «правило 80-20». В этом распределении 80 процентов весов находятся в самых низких 20 процентах диапазона, в то время как другие 20 процентов заполняют оставшиеся 80 процентов диапазона.\n",
    "\n",
    "Подробнее на [Вики](https://ru.wikipedia.org/wiki/%D0%A0%D0%B0%D1%81%D0%BF%D1%80%D0%B5%D0%B4%D0%B5%D0%BB%D0%B5%D0%BD%D0%B8%D0%B5_%D0%9F%D0%B0%D1%80%D0%B5%D1%82%D0%BE)"
   ]
  },
  {
   "cell_type": "code",
   "execution_count": 13,
   "metadata": {
    "id": "t4jWP3DIo92p"
   },
   "outputs": [],
   "source": [
    "k = 3 # коэфициент кривизны\n",
    "pareto = sts.pareto(k)\n",
    "sample = pareto.rvs(1000) # генерим случайную выборку 1000 значений"
   ]
  },
  {
   "cell_type": "markdown",
   "metadata": {
    "id": "-1vQlTDsvAiy"
   },
   "source": [
    "Отобразим гистограмму выборок вместе с функцией плотности вероятности:"
   ]
  },
  {
   "cell_type": "markdown",
   "metadata": {
    "id": "EPYQYjORwFRJ"
   },
   "source": [
    "Вместо normed=True будет использован density=True\n",
    "\n",
    "\n",
    "*MatplotlibDeprecationWarning: \n",
    "The 'normed' kwarg was deprecated in Matplotlib 2.1 and will be removed in 3.1. Use 'density' instead.\n",
    "  alternative=\"'density'\", removal=\"3.1\")*"
   ]
  },
  {
   "cell_type": "code",
   "execution_count": 16,
   "metadata": {
    "id": "jFdDQv4DvC3J",
    "outputId": "cb784467-9b8d-4ca9-c498-d00bbdf45999"
   },
   "outputs": [
    {
     "data": {
      "image/png": "[encoded data removed]",
      "text/plain": [
       "<Figure size 432x288 with 1 Axes>"
      ]
     },
     "metadata": {
      "needs_background": "light"
     },
     "output_type": "display_data"
    },
    {
     "name": "stdout",
     "output_type": "stream",
     "text": [
      "Hey!\n",
      "Hey!\n",
      "Hey!\n",
      "Hey!\n",
      "Hey!\n",
      "Hey!\n",
      "Hey!\n",
      "Hey!\n",
      "Hey!\n",
      "Hey!\n"
     ]
    }
   ],
   "source": [
    "x = np.linspace(1,10,1000) # определяем массив точек для построения плотности распределения\n",
    "pdf = pareto.pdf(x)#вычисляем значения плотности распределения от выборки\n",
    "#строим гистрограмму выборки и теоретическую функцию распределения\n",
    "plt.plot(x, pdf, label='Функция плотности вероятности', color='red')\n",
    "plt.hist(sample, bins =50, range=(1,10), density=True, color='blue', alpha=0.6)\n",
    "plt.ylabel('$f(x)$/number of samples')\n",
    "plt.xlabel('$x$')\n",
    "plt.legend(loc='best')\n",
    "plt.show()\n",
    "for i in range(10):\n",
    "    print(\"Hey!\")"
   ]
  },
  {
   "cell_type": "markdown",
   "metadata": {
    "id": "RFmciiL-wcqp"
   },
   "source": [
    "## Оценка распределения выборочного среднего \n",
    "\n"
   ]
  },
  {
   "cell_type": "markdown",
   "metadata": {
    "id": "_DYIleqkzdDz"
   },
   "source": [
    "Предварительно определим формулы нахождения значений среднего и дисперсии\n",
    "\n",
    "$E \\lbrack X \\rbrack = \\frac{x(m)k}{k-1} $  - среднее, где $x(m)$ - это миниальное значение (наше b) , а $k$ - коэфициент кривизны (a)  \n",
    "$ D \\lbrack X \\rbrack = (\\frac{x(m)}{k-1})^2\\cdot  (\\frac{k}{k-2}) $\n"
   ]
  },
  {
   "cell_type": "code",
   "execution_count": 6,
   "metadata": {
    "id": "gbPJPc0G8L-U",
    "outputId": "49744b8d-9707-472c-9615-8fe48eb780ae"
   },
   "outputs": [
    {
     "name": "stdout",
     "output_type": "stream",
     "text": [
      "1.5 - среднее значение, 0.75 - дисперсия\n"
     ]
    }
   ],
   "source": [
    "xm = min(x) #минимальное значение \n",
    "E = (xm*k)/(k-1)\n",
    "D = (((xm)/(k-1))**2)*(k/(k-2))\n",
    "print('{} - среднее значение, {} - дисперсия'.format(E, D))"
   ]
  },
  {
   "cell_type": "markdown",
   "metadata": {
    "id": "QBbRgQ3X-6NH"
   },
   "source": [
    "Определим функцию, генерирующую 1000 выборок объема n, считающую среднее для каждой из них и формирующая график"
   ]
  },
  {
   "cell_type": "code",
   "execution_count": 7,
   "metadata": {
    "id": "THGI-D6uACio"
   },
   "outputs": [],
   "source": [
    "def get_1000sample(n):\n",
    "  samples = [pareto.rvs(n).mean() for i in range(1000)]\n",
    "  mu, std = sts.norm.fit(samples)\n",
    "  plt.hist(samples, bins=25, density=True, alpha=0.6, color='b')\n",
    "  # Теперь плотность.\n",
    "  xmin, xmax = plt.xlim()\n",
    "  x = np.linspace(xmin, xmax, 100)\n",
    "  p = sts.norm.pdf(x, mu, std)\n",
    "  plt.plot(x, p, 'red', linewidth=2)\n",
    "  title = 'Среднее значение = {}'.format(mu)\n",
    "  plt.title(title)\n",
    "  plt.show()\n"
   ]
  },
  {
   "cell_type": "markdown",
   "metadata": {
    "id": "XnZD3TzWxRIx"
   },
   "source": [
    "## Расчет для выборок c разными объемами"
   ]
  },
  {
   "cell_type": "code",
   "execution_count": 8,
   "metadata": {
    "id": "ub7euFPC9rvY",
    "outputId": "de64665b-a6c0-43f0-c51b-fc4954621d68"
   },
   "outputs": [
    {
     "data": {
      "image/png": "[encoded data removed]",
      "text/plain": [
       "<Figure size 432x288 with 1 Axes>"
      ]
     },
     "metadata": {
      "needs_background": "light"
     },
     "output_type": "display_data"
    },
    {
     "data": {
      "image/png": "[encoded data removed]",
      "text/plain": [
       "<Figure size 432x288 with 1 Axes>"
      ]
     },
     "metadata": {
      "needs_background": "light"
     },
     "output_type": "display_data"
    },
    {
     "data": {
      "image/png": "[encoded data removed]",
      "text/plain": [
       "<Figure size 432x288 with 1 Axes>"
      ]
     },
     "metadata": {
      "needs_background": "light"
     },
     "output_type": "display_data"
    }
   ],
   "source": [
    "for n in [5, 10, 50]:\n",
    "  get_1000sample(n)"
   ]
  },
  {
   "cell_type": "markdown",
   "metadata": {
    "id": "nTE-ky1hLMzX"
   },
   "source": [
    "## Вывод\n",
    "\n",
    "Значения средних практически с первой выборки при расчете вручную стали соответсвтовать теоретическим расчетам, что верно соотносится с формулировкой центральной предельной теоремы и этот факт приводит к тому, что обьем выборки не так важен и можно ориентироваться на меньшее значение, дисперсия же в свою очередь уменьшается с ростом выборки, что можно увидеть по графикам, в свою очередь подтверждая ЦПТ"
   ]
  }
 ],
 "metadata": {
  "kernelspec": {
   "display_name": "Python 3",
   "language": "python",
   "name": "python3"
  },
  "language_info": {
   "codemirror_mode": {
    "name": "ipython",
    "version": 3
   },
   "file_extension": ".py",
   "mimetype": "text/x-python",
   "name": "python",
   "nbconvert_exporter": "python",
   "pygments_lexer": "ipython3",
   "version": "3.8.5"
  }
 },
 "nbformat": 4,
 "nbformat_minor": 4
}
